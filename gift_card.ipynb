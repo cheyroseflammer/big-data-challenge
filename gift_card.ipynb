{
  "nbformat": 4,
  "nbformat_minor": 0,
  "metadata": {
    "colab": {
      "name": "gift_card.ipynb",
      "provenance": [],
      "collapsed_sections": [],
      "authorship_tag": "ABX9TyNwTxIxkISxYIiJIAoT/C00",
      "include_colab_link": true
    },
    "kernelspec": {
      "name": "python3",
      "display_name": "Python 3"
    },
    "language_info": {
      "name": "python"
    }
  },
  "cells": [
    {
      "cell_type": "markdown",
      "metadata": {
        "id": "view-in-github",
        "colab_type": "text"
      },
      "source": [
        "<a href=\"https://colab.research.google.com/github/cheyroseflammer/big-data-challenge/blob/main/gift_card.ipynb\" target=\"_parent\"><img src=\"https://colab.research.google.com/assets/colab-badge.svg\" alt=\"Open In Colab\"/></a>"
      ]
    },
    {
      "cell_type": "code",
      "execution_count": 11,
      "metadata": {
        "colab": {
          "base_uri": "https://localhost:8080/"
        },
        "id": "rkyf1invzuyz",
        "outputId": "73c54630-64c7-4b89-b595-ba8c2afa80df"
      },
      "outputs": [
        {
          "output_type": "stream",
          "name": "stdout",
          "text": [
            "\r0% [Working]\r            \rIgn:1 https://developer.download.nvidia.com/compute/cuda/repos/ubuntu1804/x86_64  InRelease\n",
            "\r0% [Waiting for headers] [Waiting for headers] [Connected to cloud.r-project.or\r                                                                               \rHit:2 http://security.ubuntu.com/ubuntu bionic-security InRelease\n",
            "\r0% [Waiting for headers] [Connected to cloud.r-project.org (54.192.121.97)] [Wa\r0% [2 InRelease gpgv 88.7 kB] [Waiting for headers] [Connected to cloud.r-proje\r                                                                               \rHit:3 http://archive.ubuntu.com/ubuntu bionic InRelease\n",
            "\r0% [2 InRelease gpgv 88.7 kB] [Connected to cloud.r-project.org (54.192.121.97)\r                                                                               \rIgn:4 https://developer.download.nvidia.com/compute/machine-learning/repos/ubuntu1804/x86_64  InRelease\n",
            "\r0% [2 InRelease gpgv 88.7 kB] [Waiting for headers] [Connected to cloud.r-proje\r                                                                               \rHit:5 https://developer.download.nvidia.com/compute/cuda/repos/ubuntu1804/x86_64  Release\n",
            "\r0% [2 InRelease gpgv 88.7 kB] [Waiting for headers] [Connected to cloud.r-proje\r                                                                               \rHit:6 https://developer.download.nvidia.com/compute/machine-learning/repos/ubuntu1804/x86_64  Release\n",
            "Hit:7 http://ppa.launchpad.net/c2d4u.team/c2d4u4.0+/ubuntu bionic InRelease\n",
            "Hit:8 http://archive.ubuntu.com/ubuntu bionic-updates InRelease\n",
            "Hit:9 http://archive.ubuntu.com/ubuntu bionic-backports InRelease\n",
            "Hit:10 http://ppa.launchpad.net/cran/libgit2/ubuntu bionic InRelease\n",
            "Hit:11 http://ppa.launchpad.net/deadsnakes/ppa/ubuntu bionic InRelease\n",
            "Hit:13 http://ppa.launchpad.net/graphics-drivers/ppa/ubuntu bionic InRelease\n",
            "Get:15 https://cloud.r-project.org/bin/linux/ubuntu bionic-cran40/ InRelease [3,626 B]\n",
            "Fetched 3,626 B in 2s (1,463 B/s)\n",
            "Reading package lists... Done\n"
          ]
        }
      ],
      "source": [
        " import os\n",
        "# Find the latest version of spark 3.0  from http://www.apache.org/dist/spark/ and enter as the spark version\n",
        "# For example:\n",
        "spark_version = 'spark-3.0.3'\n",
        "spark_version = 'spark-3.0.3'\n",
        "os.environ['SPARK_VERSION']=spark_version\n",
        "\n",
        "# Install Spark and Java\n",
        "!apt-get update\n",
        "!apt-get install openjdk-8-jdk-headless -qq > /dev/null\n",
        "!wget -q http://www.apache.org/dist/spark/$SPARK_VERSION/$SPARK_VERSION-bin-hadoop2.7.tgz\n",
        "!tar xf $SPARK_VERSION-bin-hadoop2.7.tgz\n",
        "!pip install -q findspark\n",
        "\n",
        "# Set Environment Variables\n",
        "import os\n",
        "os.environ[\"JAVA_HOME\"] = \"/usr/lib/jvm/java-8-openjdk-amd64\"\n",
        "os.environ[\"SPARK_HOME\"] = f\"/content/{spark_version}-bin-hadoop2.7\"\n",
        "\n",
        "# Start a SparkSession\n",
        "import findspark\n",
        "findspark.init()"
      ]
    },
    {
      "cell_type": "code",
      "source": [
        "!wget https://jdbc.postgresql.org/download/postgresql-42.2.9.jar"
      ],
      "metadata": {
        "colab": {
          "base_uri": "https://localhost:8080/"
        },
        "id": "s_d5GkFjB1Eq",
        "outputId": "67bff898-0f7d-43b4-fc0f-1905dca507c1"
      },
      "execution_count": 12,
      "outputs": [
        {
          "output_type": "stream",
          "name": "stdout",
          "text": [
            "--2022-02-03 18:29:43--  https://jdbc.postgresql.org/download/postgresql-42.2.9.jar\n",
            "Resolving jdbc.postgresql.org (jdbc.postgresql.org)... 72.32.157.228, 2001:4800:3e1:1::228\n",
            "Connecting to jdbc.postgresql.org (jdbc.postgresql.org)|72.32.157.228|:443... connected.\n",
            "HTTP request sent, awaiting response... 200 OK\n",
            "Length: 914037 (893K) [application/java-archive]\n",
            "Saving to: ‘postgresql-42.2.9.jar.2’\n",
            "\n",
            "postgresql-42.2.9.j 100%[===================>] 892.61K  --.-KB/s    in 0.08s   \n",
            "\n",
            "2022-02-03 18:29:43 (10.4 MB/s) - ‘postgresql-42.2.9.jar.2’ saved [914037/914037]\n",
            "\n"
          ]
        }
      ]
    },
    {
      "cell_type": "code",
      "source": [
        "from google.colab import drive\n",
        "drive.mount('/content/gdrive')"
      ],
      "metadata": {
        "colab": {
          "base_uri": "https://localhost:8080/"
        },
        "id": "nyA-_0fqB5T0",
        "outputId": "2a09e14f-2e57-4043-c8f2-97bdc1cafc98"
      },
      "execution_count": 13,
      "outputs": [
        {
          "output_type": "stream",
          "name": "stdout",
          "text": [
            "Drive already mounted at /content/gdrive; to attempt to forcibly remount, call drive.mount(\"/content/gdrive\", force_remount=True).\n"
          ]
        }
      ]
    },
    {
      "cell_type": "code",
      "source": [
        "from pyspark.sql import SparkSession\n",
        "spark = SparkSession.builder.appName(\"CloudETL\").config(\"spark.driver.extraClassPath\",\"/content/postgresql-42.2.9.jar\").getOrCreate()"
      ],
      "metadata": {
        "id": "5462Fxfz0w54"
      },
      "execution_count": 14,
      "outputs": []
    },
    {
      "cell_type": "code",
      "source": [
        "from pyspark import SparkFiles\n",
        "# Load in book data from S3 into a DataFrame\n",
        "url = \"https://s3.amazonaws.com/amazon-reviews-pds/tsv/amazon_reviews_us_Gift_Card_v1_00.tsv.gz\"\n",
        "spark.sparkContext.addFile(url)\n",
        "\n",
        "df = spark.read.option('header', 'true').option(\"sep\", \"\\t\").csv(SparkFiles.get(\"amazon_reviews_us_Gift_Card_v1_00.tsv.gz\"), inferSchema=True)\n",
        "df.show(10)"
      ],
      "metadata": {
        "colab": {
          "base_uri": "https://localhost:8080/"
        },
        "id": "AW_g_hMk1PaM",
        "outputId": "54967d92-6ce2-4735-8afc-8ad86664abe3"
      },
      "execution_count": 15,
      "outputs": [
        {
          "output_type": "stream",
          "name": "stdout",
          "text": [
            "+-----------+-----------+--------------+----------+--------------+--------------------+----------------+-----------+-------------+-----------+----+-----------------+--------------------+--------------------+-----------+\n",
            "|marketplace|customer_id|     review_id|product_id|product_parent|       product_title|product_category|star_rating|helpful_votes|total_votes|vine|verified_purchase|     review_headline|         review_body|review_date|\n",
            "+-----------+-----------+--------------+----------+--------------+--------------------+----------------+-----------+-------------+-----------+----+-----------------+--------------------+--------------------+-----------+\n",
            "|         US|   24371595|R27ZP1F1CD0C3Y|B004LLIL5A|     346014806|Amazon eGift Card...|       Gift Card|          5|            0|          0|   N|                Y|          Five Stars|Great birthday gi...| 2015-08-31|\n",
            "|         US|   42489718| RJ7RSBCHUDNNE|B004LLIKVU|     473048287|Amazon.com eGift ...|       Gift Card|          5|            0|          0|   N|                Y|Gift card for the...|It's an Amazon gi...| 2015-08-31|\n",
            "|         US|     861463|R1HVYBSKLQJI5S|B00IX1I3G6|     926539283|Amazon.com Gift C...|       Gift Card|          5|            0|          0|   N|                Y|          Five Stars|                Good| 2015-08-31|\n",
            "|         US|   25283295|R2HAXF0IIYQBIR|B00IX1I3G6|     926539283|Amazon.com Gift C...|       Gift Card|          1|            0|          0|   N|                Y|            One Star|                Fair| 2015-08-31|\n",
            "|         US|     397970| RNYLPX611NB7Q|B005ESMGV4|     379368939|Amazon.com Gift C...|       Gift Card|          5|            0|          0|   N|                Y|          Five Stars|I can't believe h...| 2015-08-31|\n",
            "|         US|   18513645|R3ALA9XXMBEDZR|B004KNWWU4|     326384774|Amazon Gift Card ...|       Gift Card|          5|            0|          0|   N|                Y|Perfect for most ...|Perfect!  Nice & ...| 2015-08-31|\n",
            "|         US|   22484620|R3R8PHAVJFTPDF|B004LLIKVU|     473048287|Amazon.com eGift ...|       Gift Card|          5|            0|          0|   N|                Y|          Five Stars|            excelent| 2015-08-31|\n",
            "|         US|   14765851|R18WWEK8OIXE30|BT00CTP2EE|     775486538|Amazon.com Gift C...|       Gift Card|          5|            0|          0|   N|                Y|          Five Stars|Great and Safe Gi...| 2015-08-31|\n",
            "|         US|   18751931|R1EGUNQON2J277|B004LLIKVU|     473048287|Amazon.com eGift ...|       Gift Card|          1|            0|          0|   N|                Y|            One Star|       What?????????| 2015-08-31|\n",
            "|         US|   15100528|R21Z4M4L98CPU2|B004W8D102|     595099956|Amazon Gift Card ...|       Gift Card|          5|            0|          0|   N|                Y|          Five Stars|This was just too...| 2015-08-31|\n",
            "+-----------+-----------+--------------+----------+--------------+--------------------+----------------+-----------+-------------+-----------+----+-----------------+--------------------+--------------------+-----------+\n",
            "only showing top 10 rows\n",
            "\n"
          ]
        }
      ]
    },
    {
      "cell_type": "code",
      "source": [
        "# Create customer dataframe\n",
        "customer_df = df.select([\"customer_id\",\"product_category\",\"review_id\"])\\\n",
        "  .groupby(\"customer_id\",\"product_category\")\\\n",
        "  .agg({\"review_id\":\"count\"})\n",
        "\n",
        "customer_df = customer_df.withColumnRenamed(\"count(review_id)\",\"customer_count\")\n",
        "customer_df.show(truncate=False)"
      ],
      "metadata": {
        "colab": {
          "base_uri": "https://localhost:8080/"
        },
        "id": "szWfljVo1e4c",
        "outputId": "7f6a48e7-6dd4-448f-9eae-6820e0f3227e"
      },
      "execution_count": 18,
      "outputs": [
        {
          "output_type": "stream",
          "name": "stdout",
          "text": [
            "+-----------+----------------+--------------+\n",
            "|customer_id|product_category|customer_count|\n",
            "+-----------+----------------+--------------+\n",
            "|1094807    |Gift Card       |2             |\n",
            "|13288873   |Gift Card       |1             |\n",
            "|28907327   |Gift Card       |1             |\n",
            "|152204     |Gift Card       |1             |\n",
            "|12374492   |Gift Card       |1             |\n",
            "|11804769   |Gift Card       |1             |\n",
            "|11218637   |Gift Card       |1             |\n",
            "|22047574   |Gift Card       |1             |\n",
            "|36506397   |Gift Card       |1             |\n",
            "|49927353   |Gift Card       |1             |\n",
            "|754173     |Gift Card       |1             |\n",
            "|15896710   |Gift Card       |1             |\n",
            "|41292650   |Gift Card       |1             |\n",
            "|33902981   |Gift Card       |1             |\n",
            "|5126816    |Gift Card       |1             |\n",
            "|47279457   |Gift Card       |1             |\n",
            "|3440033    |Gift Card       |1             |\n",
            "|47515165   |Gift Card       |1             |\n",
            "|216088     |Gift Card       |1             |\n",
            "|4595028    |Gift Card       |1             |\n",
            "+-----------+----------------+--------------+\n",
            "only showing top 20 rows\n",
            "\n"
          ]
        }
      ]
    },
    {
      "cell_type": "code",
      "source": [
        "# Creating product dataframe\n",
        "product_df = df.select('product_id','product_title').distinct()\n",
        "product_df.show(truncate=False)"
      ],
      "metadata": {
        "colab": {
          "base_uri": "https://localhost:8080/"
        },
        "id": "zzcmWhb82JMF",
        "outputId": "95949d40-4d7f-40b5-c9e7-42970fb4d5ef"
      },
      "execution_count": 20,
      "outputs": [
        {
          "output_type": "stream",
          "name": "stdout",
          "text": [
            "+----------+--------------------------------------------------------------------------------------------+\n",
            "|product_id|product_title                                                                               |\n",
            "+----------+--------------------------------------------------------------------------------------------+\n",
            "|B00CHQKNUM|Amazon.com Gift Card in a Black Gift Box (Previous Generation Card Designs)                 |\n",
            "|B00CRQ4ZOM|Amazon Gift Card - Print - #1 Dad                                                           |\n",
            "|B00H5BMZ32|Amazon eGift Card - Eyes Know What You Did (Animated) [Hallmark]                            |\n",
            "|BT00CTP84S|Amazon.com Gift Card in a Greeting Card (Various Designs)                                   |\n",
            "|B004LLILN2|Amazon eGift Card - Happy Mother's Day (Child Art)                                          |\n",
            "|B00N59437O|Amazon Gift Card - Email - Birthday Birthstone: January (Garnet)                            |\n",
            "|B005J0444E|Amazon.com Gift Card in a Greeting Card (Various Designs)                                   |\n",
            "|B00E1QB2K6|Amazon Gift Card - Facebook - Wedding (Dress and Tux)                                       |\n",
            "|B004LLJ6IQ|Amazon Gift Card - Facebook - Happy Retirement                                              |\n",
            "|B004LLILQ4|Amazon eGift Card - Happy New Year                                                          |\n",
            "|B0091JL2CQ|Amazon.com Gift Card in a Mini Amazon Shipping Box (Various Card Designs)                   |\n",
            "|B0062ONNL6|Amazon Gift Card - Print - Amazon Home                                                      |\n",
            "|BT00CTP0N2|Amazon.com Gift Card - $20 (Christmas Tree design) (Previous generation)                    |\n",
            "|B009I1Z11U|Amazon Video Gift Card - E-mail - Chiquita                                                  |\n",
            "|B009LLWBTM|Amazon Video Gift Card - Facebook - Who Knows - Grad                                        |\n",
            "|B00BWDHS04|Amazon Gift Card - Facebook - You Are Special to Me Birthday (Animated) [American Greetings]|\n",
            "|B0091JKZYW|Amazon.com Gift Card for Any Amount in a Santa Tin (Ho! Ho! Ho! Card Design)                |\n",
            "|B004LLJ6C2|Amazon Gift Card - Facebook - Amazon Music (Notes)                                          |\n",
            "|B007V6ETDK|Amazon eGift Card - Happy Birthday (Presents)                                               |\n",
            "|B005Z3D5OU|Amazon.com Gift Cards, Pack of 3 (Various Designs)                                          |\n",
            "+----------+--------------------------------------------------------------------------------------------+\n",
            "only showing top 20 rows\n",
            "\n"
          ]
        }
      ]
    },
    {
      "cell_type": "code",
      "source": [
        "from pyspark.sql.types import DateType\n",
        "\n",
        "# Create review df\n",
        "review_df = df.select('review_id','customer_id','product_id','product_parent','product_category','review_date')\n",
        "review_df=review_df.withColumn('review_date',review_df['review_date'].cast(DateType()))\n",
        "\n",
        "review_df.show()"
      ],
      "metadata": {
        "colab": {
          "base_uri": "https://localhost:8080/"
        },
        "id": "u2RdxFoo2sfn",
        "outputId": "a0d68991-bb7b-46f6-b5ae-da086fb3313a"
      },
      "execution_count": 21,
      "outputs": [
        {
          "output_type": "stream",
          "name": "stdout",
          "text": [
            "+--------------+-----------+----------+--------------+----------------+-----------+\n",
            "|     review_id|customer_id|product_id|product_parent|product_category|review_date|\n",
            "+--------------+-----------+----------+--------------+----------------+-----------+\n",
            "|R27ZP1F1CD0C3Y|   24371595|B004LLIL5A|     346014806|       Gift Card| 2015-08-31|\n",
            "| RJ7RSBCHUDNNE|   42489718|B004LLIKVU|     473048287|       Gift Card| 2015-08-31|\n",
            "|R1HVYBSKLQJI5S|     861463|B00IX1I3G6|     926539283|       Gift Card| 2015-08-31|\n",
            "|R2HAXF0IIYQBIR|   25283295|B00IX1I3G6|     926539283|       Gift Card| 2015-08-31|\n",
            "| RNYLPX611NB7Q|     397970|B005ESMGV4|     379368939|       Gift Card| 2015-08-31|\n",
            "|R3ALA9XXMBEDZR|   18513645|B004KNWWU4|     326384774|       Gift Card| 2015-08-31|\n",
            "|R3R8PHAVJFTPDF|   22484620|B004LLIKVU|     473048287|       Gift Card| 2015-08-31|\n",
            "|R18WWEK8OIXE30|   14765851|BT00CTP2EE|     775486538|       Gift Card| 2015-08-31|\n",
            "|R1EGUNQON2J277|   18751931|B004LLIKVU|     473048287|       Gift Card| 2015-08-31|\n",
            "|R21Z4M4L98CPU2|   15100528|B004W8D102|     595099956|       Gift Card| 2015-08-31|\n",
            "| R6JH7A117FHFA|    3559726|B004LLIKVU|     473048287|       Gift Card| 2015-08-31|\n",
            "|R1XZHS8M1GCGI7|   23413911|B004KNWWU4|     326384774|       Gift Card| 2015-08-31|\n",
            "|R1DAI0N03SKRJN|    2026222|B004LLIKVU|     473048287|       Gift Card| 2015-08-31|\n",
            "|R2F6SKZOEYQRU3|   32956435|B004LLIKVU|     473048287|       Gift Card| 2015-08-31|\n",
            "| RIBOP6OEAZA47|   20241560|B00H5BNLUS|     637715957|       Gift Card| 2015-08-31|\n",
            "|R15H8E7WD6XD29|   10670435|B004KNWX6C|     763371347|       Gift Card| 2015-08-31|\n",
            "| RVN4P3RU4F8IE|   48872127|BT00CTOYC0|     506740729|       Gift Card| 2015-08-31|\n",
            "| RCS8F9JCAAXC7|     460630|B004LLIKVU|     473048287|       Gift Card| 2015-08-31|\n",
            "| R6811C4E7UYL2|   41238378|B00H5BMH44|      81025991|       Gift Card| 2015-08-31|\n",
            "|R196T0NZ73TYIM|   14222739|B005ESMMKE|     459536087|       Gift Card| 2015-08-31|\n",
            "+--------------+-----------+----------+--------------+----------------+-----------+\n",
            "only showing top 20 rows\n",
            "\n"
          ]
        }
      ]
    },
    {
      "cell_type": "code",
      "source": [
        "# Creating vine df\n",
        "vine_df = df.select('review_id','star_rating','helpful_votes','total_votes','vine')\n",
        "vine_df.show()"
      ],
      "metadata": {
        "colab": {
          "base_uri": "https://localhost:8080/"
        },
        "id": "OCR6W3F42zoQ",
        "outputId": "994551c2-c849-4578-ba01-bc36bc222ea6"
      },
      "execution_count": 23,
      "outputs": [
        {
          "output_type": "stream",
          "name": "stdout",
          "text": [
            "+--------------+-----------+-------------+-----------+----+\n",
            "|     review_id|star_rating|helpful_votes|total_votes|vine|\n",
            "+--------------+-----------+-------------+-----------+----+\n",
            "|R27ZP1F1CD0C3Y|          5|            0|          0|   N|\n",
            "| RJ7RSBCHUDNNE|          5|            0|          0|   N|\n",
            "|R1HVYBSKLQJI5S|          5|            0|          0|   N|\n",
            "|R2HAXF0IIYQBIR|          1|            0|          0|   N|\n",
            "| RNYLPX611NB7Q|          5|            0|          0|   N|\n",
            "|R3ALA9XXMBEDZR|          5|            0|          0|   N|\n",
            "|R3R8PHAVJFTPDF|          5|            0|          0|   N|\n",
            "|R18WWEK8OIXE30|          5|            0|          0|   N|\n",
            "|R1EGUNQON2J277|          1|            0|          0|   N|\n",
            "|R21Z4M4L98CPU2|          5|            0|          0|   N|\n",
            "| R6JH7A117FHFA|          5|            0|          0|   N|\n",
            "|R1XZHS8M1GCGI7|          5|            1|          1|   N|\n",
            "|R1DAI0N03SKRJN|          5|            1|          1|   N|\n",
            "|R2F6SKZOEYQRU3|          5|            0|          0|   N|\n",
            "| RIBOP6OEAZA47|          5|            1|          1|   N|\n",
            "|R15H8E7WD6XD29|          5|            0|          0|   N|\n",
            "| RVN4P3RU4F8IE|          5|            0|          0|   N|\n",
            "| RCS8F9JCAAXC7|          4|            0|          0|   N|\n",
            "| R6811C4E7UYL2|          5|            0|          0|   N|\n",
            "|R196T0NZ73TYIM|          5|            1|          1|   N|\n",
            "+--------------+-----------+-------------+-----------+----+\n",
            "only showing top 20 rows\n",
            "\n"
          ]
        }
      ]
    },
    {
      "cell_type": "code",
      "source": [
        "# Configure RDS\n",
        "mode = \"append\"\n",
        "jdbc_url=\"jdbc:postgresql://<insert endpoint>:5432/big_data_db\"\n",
        "config = {\"user\":\"root\", \n",
        "          \"password\": \"<insert password>\", \n",
        "          \"driver\":\"org.postgresql.Driver\"}"
      ],
      "metadata": {
        "id": "P-6l8Va5t7nI"
      },
      "execution_count": 24,
      "outputs": []
    },
    {
      "cell_type": "code",
      "source": [
        "# Write data to RDS tables\n",
        "customer_df.write.jdbc(url=jdbc_url, table=\"customers\", mode=mode, properties=config)"
      ],
      "metadata": {
        "id": "EebrXLDX3G00"
      },
      "execution_count": null,
      "outputs": []
    },
    {
      "cell_type": "code",
      "source": [
        "product_df.write.jdbc(url=jdbc_url, table=\"products\", mode=mode, properties=config)"
      ],
      "metadata": {
        "id": "-tx8cWy43I5y"
      },
      "execution_count": null,
      "outputs": []
    },
    {
      "cell_type": "code",
      "source": [
        "review_df.write.jdbc(url=jdbc_url, table=\"review_id_table\", mode=mode, properties=config)"
      ],
      "metadata": {
        "id": "bj7yqEZK3Kf-"
      },
      "execution_count": null,
      "outputs": []
    },
    {
      "cell_type": "code",
      "source": [
        "vine_df.write.jdbc(url=jdbc_url, table=\"vine_table\", mode=mode, properties=config)"
      ],
      "metadata": {
        "id": "GSbdm_rc3L58"
      },
      "execution_count": null,
      "outputs": []
    }
  ]
}