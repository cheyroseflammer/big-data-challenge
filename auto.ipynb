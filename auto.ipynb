{
  "nbformat": 4,
  "nbformat_minor": 0,
  "metadata": {
    "colab": {
      "name": "auto.ipynb",
      "provenance": [],
      "collapsed_sections": [],
      "authorship_tag": "ABX9TyMJMtetE/NLZL5J4m/kZ2+P",
      "include_colab_link": true
    },
    "kernelspec": {
      "name": "python3",
      "display_name": "Python 3"
    },
    "language_info": {
      "name": "python"
    }
  },
  "cells": [
    {
      "cell_type": "markdown",
      "metadata": {
        "id": "view-in-github",
        "colab_type": "text"
      },
      "source": [
        "<a href=\"https://colab.research.google.com/github/cheyroseflammer/big-data-challenge/blob/main/auto.ipynb\" target=\"_parent\"><img src=\"https://colab.research.google.com/assets/colab-badge.svg\" alt=\"Open In Colab\"/></a>"
      ]
    },
    {
      "cell_type": "code",
      "execution_count": null,
      "metadata": {
        "colab": {
          "base_uri": "https://localhost:8080/"
        },
        "id": "Wh4YGYLu_qsn",
        "outputId": "8aadb5f5-2e67-405e-a560-1e6dfdab56af"
      },
      "outputs": [
        {
          "output_type": "stream",
          "name": "stdout",
          "text": [
            "Hit:1 https://cloud.r-project.org/bin/linux/ubuntu bionic-cran40/ InRelease\n",
            "Ign:2 https://developer.download.nvidia.com/compute/cuda/repos/ubuntu1804/x86_64  InRelease\n",
            "Get:3 http://security.ubuntu.com/ubuntu bionic-security InRelease [88.7 kB]\n",
            "Ign:4 https://developer.download.nvidia.com/compute/machine-learning/repos/ubuntu1804/x86_64  InRelease\n",
            "Hit:5 https://developer.download.nvidia.com/compute/cuda/repos/ubuntu1804/x86_64  Release\n",
            "Hit:6 https://developer.download.nvidia.com/compute/machine-learning/repos/ubuntu1804/x86_64  Release\n",
            "Hit:7 http://archive.ubuntu.com/ubuntu bionic InRelease\n",
            "Hit:8 http://ppa.launchpad.net/c2d4u.team/c2d4u4.0+/ubuntu bionic InRelease\n",
            "Get:10 http://archive.ubuntu.com/ubuntu bionic-updates InRelease [88.7 kB]\n",
            "Hit:12 http://ppa.launchpad.net/cran/libgit2/ubuntu bionic InRelease\n",
            "Hit:13 http://ppa.launchpad.net/deadsnakes/ppa/ubuntu bionic InRelease\n",
            "Get:14 http://archive.ubuntu.com/ubuntu bionic-backports InRelease [74.6 kB]\n",
            "Hit:15 http://ppa.launchpad.net/graphics-drivers/ppa/ubuntu bionic InRelease\n",
            "Fetched 252 kB in 3s (83.4 kB/s)\n",
            "Reading package lists... Done\n"
          ]
        }
      ],
      "source": [
        " import os\n",
        "# Find the latest version of spark 3.0  from http://www.apache.org/dist/spark/ and enter as the spark version\n",
        "# For example:\n",
        "spark_version = 'spark-3.0.3'\n",
        "spark_version = 'spark-3.0.3'\n",
        "os.environ['SPARK_VERSION']=spark_version\n",
        "\n",
        "# Install Spark and Java\n",
        "!apt-get update\n",
        "!apt-get install openjdk-8-jdk-headless -qq > /dev/null\n",
        "!wget -q http://www.apache.org/dist/spark/$SPARK_VERSION/$SPARK_VERSION-bin-hadoop2.7.tgz\n",
        "!tar xf $SPARK_VERSION-bin-hadoop2.7.tgz\n",
        "!pip install -q findspark\n",
        "\n",
        "# Set Environment Variables\n",
        "import os\n",
        "os.environ[\"JAVA_HOME\"] = \"/usr/lib/jvm/java-8-openjdk-amd64\"\n",
        "os.environ[\"SPARK_HOME\"] = f\"/content/{spark_version}-bin-hadoop2.7\"\n",
        "\n",
        "# Start a SparkSession\n",
        "import findspark\n",
        "findspark.init()"
      ]
    },
    {
      "cell_type": "code",
      "source": [
        "!wget https://jdbc.postgresql.org/download/postgresql-42.2.9.jar"
      ],
      "metadata": {
        "colab": {
          "base_uri": "https://localhost:8080/"
        },
        "id": "s_d5GkFjB1Eq",
        "outputId": "26e38c45-50fa-4402-bd71-9341e7e5cec9"
      },
      "execution_count": null,
      "outputs": [
        {
          "output_type": "stream",
          "name": "stdout",
          "text": [
            "--2022-02-03 18:04:57--  https://jdbc.postgresql.org/download/postgresql-42.2.9.jar\n",
            "Resolving jdbc.postgresql.org (jdbc.postgresql.org)... 72.32.157.228, 2001:4800:3e1:1::228\n",
            "Connecting to jdbc.postgresql.org (jdbc.postgresql.org)|72.32.157.228|:443... connected.\n",
            "HTTP request sent, awaiting response... 200 OK\n",
            "Length: 914037 (893K) [application/java-archive]\n",
            "Saving to: ‘postgresql-42.2.9.jar.1’\n",
            "\n",
            "postgresql-42.2.9.j 100%[===================>] 892.61K  1.31MB/s    in 0.7s    \n",
            "\n",
            "2022-02-03 18:04:59 (1.31 MB/s) - ‘postgresql-42.2.9.jar.1’ saved [914037/914037]\n",
            "\n"
          ]
        }
      ]
    },
    {
      "cell_type": "code",
      "source": [
        "from google.colab import drive\n",
        "drive.mount('/content/gdrive')"
      ],
      "metadata": {
        "colab": {
          "base_uri": "https://localhost:8080/"
        },
        "id": "nyA-_0fqB5T0",
        "outputId": "c5009f1a-b052-4e1a-ded8-54645308c93d"
      },
      "execution_count": null,
      "outputs": [
        {
          "output_type": "stream",
          "name": "stdout",
          "text": [
            "Drive already mounted at /content/gdrive; to attempt to forcibly remount, call drive.mount(\"/content/gdrive\", force_remount=True).\n"
          ]
        }
      ]
    },
    {
      "cell_type": "code",
      "source": [
        "from pyspark.sql import SparkSession\n",
        "spark = SparkSession.builder.appName(\"CloudETL\").config(\"spark.driver.extraClassPath\",\"/content/postgresql-42.2.9.jar\").getOrCreate()"
      ],
      "metadata": {
        "id": "hy04GbBSB8Mb"
      },
      "execution_count": null,
      "outputs": []
    },
    {
      "cell_type": "code",
      "source": [
        "from pyspark import SparkFiles\n",
        "# Load in data from S3 into a DataFrame\n",
        "url = \"https://s3.amazonaws.com/amazon-reviews-pds/tsv/amazon_reviews_us_Automotive_v1_00.tsv.gz\"\n",
        "spark.sparkContext.addFile(url)\n",
        "\n",
        "df = spark.read.option('header', 'true').csv(SparkFiles.get(\"amazon_reviews_us_Automotive_v1_00.tsv.gz\"), inferSchema=True, sep=r'\\t', dateFormat=\"yyyy-MM-dd HH:mm:ss\")\n",
        "df.show(10)"
      ],
      "metadata": {
        "colab": {
          "base_uri": "https://localhost:8080/"
        },
        "id": "AaJ7eyGhCPAR",
        "outputId": "00a5fbaa-abba-4fd6-c88e-357755522cfe"
      },
      "execution_count": null,
      "outputs": [
        {
          "output_type": "stream",
          "name": "stdout",
          "text": [
            "+-----------+-----------+--------------+----------+--------------+--------------------+----------------+-----------+-------------+-----------+----+-----------------+--------------------+--------------------+-----------+\n",
            "|marketplace|customer_id|     review_id|product_id|product_parent|       product_title|product_category|star_rating|helpful_votes|total_votes|vine|verified_purchase|     review_headline|         review_body|review_date|\n",
            "+-----------+-----------+--------------+----------+--------------+--------------------+----------------+-----------+-------------+-----------+----+-----------------+--------------------+--------------------+-----------+\n",
            "|         US|   36075342| RAB23OVFNCXZQ|B00LPRXQ4Y|     339193102|17\" 2003-2006 For...|      Automotive|          1|            0|          0|   N|                Y|     As it was used,|As it was used, t...| 2015-08-31|\n",
            "|         US|   42462164|R3NORADVJO6IE6|B000C7S0TO|     907684644|Spectra Premium C...|      Automotive|          5|            0|          0|   N|                Y|          Five Stars|Put it in fine, n...| 2015-08-31|\n",
            "|         US|   21241933|R299F4SO98S5OO|B000CO9WE4|     752246352|K&N E-4665 High P...|      Automotive|          5|            1|          1|   N|                Y|Great fit and per...|Fit wonderfully o...| 2015-08-31|\n",
            "|         US|   52570308|R2DA9DOT03UW6I|B000GKD5NI|     105401756|Suncutters Rear W...|      Automotive|          5|            2|          3|   N|                Y|Good for the pric...|Good for the pric...| 2015-08-31|\n",
            "|         US|   38200102|R2OGCH681EQHU6|B009SDA7TE|     728471129|Lug Nuts Landcrui...|      Automotive|          5|            0|          0|   N|                Y|          Five Stars|Fit perfectly on ...| 2015-08-31|\n",
            "|         US|   34866169| R2JMKIC16MHD7|B00KV15KRG|     962286893|Fits 2007-2009 Ho...|      Automotive|          5|            2|          2|   N|                Y|Fit Well and Bett...|Product fits well...| 2015-08-31|\n",
            "|         US|     184627|R1DB5DA7CWWTI8|B0002JMAKW|     267002949|Castrol 12614 Dot...|      Automotive|          5|            0|          0|   N|                Y|convenient, fast ...|convenient ,fast ...| 2015-08-31|\n",
            "|         US|    2975964|R1N8XWFDK4QACP|B00XJKMM6S|     570789093|New Power Window ...|      Automotive|          5|            0|          0|   N|                Y|          Five Stars|             is good| 2015-08-31|\n",
            "|         US|   40946484|R19VFLX6MRU0CX|B000C5CEKC|     389524802|Motorad MGC-791 L...|      Automotive|          5|            0|          0|   N|                Y|GOOD deal.  Great...|wonderful.  if yo...| 2015-08-31|\n",
            "|         US|   12554469| RLTD8YDGTP9PT|B00GD9R2A8|      21425394|Genuine Ford AL3Z...|      Automotive|          1|            0|          0|   N|                Y|Does not fit my F...|Does not work wit...| 2015-08-31|\n",
            "+-----------+-----------+--------------+----------+--------------+--------------------+----------------+-----------+-------------+-----------+----+-----------------+--------------------+--------------------+-----------+\n",
            "only showing top 10 rows\n",
            "\n"
          ]
        }
      ]
    },
    {
      "cell_type": "code",
      "source": [
        "# Show and print schema\n",
        "df.printSchema()"
      ],
      "metadata": {
        "colab": {
          "base_uri": "https://localhost:8080/"
        },
        "id": "KIQhjAOUCT4M",
        "outputId": "0bdcbca7-b15b-4f57-def2-dc06e6caadd4"
      },
      "execution_count": null,
      "outputs": [
        {
          "output_type": "stream",
          "name": "stdout",
          "text": [
            "root\n",
            " |-- marketplace: string (nullable = true)\n",
            " |-- customer_id: integer (nullable = true)\n",
            " |-- review_id: string (nullable = true)\n",
            " |-- product_id: string (nullable = true)\n",
            " |-- product_parent: integer (nullable = true)\n",
            " |-- product_title: string (nullable = true)\n",
            " |-- product_category: string (nullable = true)\n",
            " |-- star_rating: integer (nullable = true)\n",
            " |-- helpful_votes: integer (nullable = true)\n",
            " |-- total_votes: integer (nullable = true)\n",
            " |-- vine: string (nullable = true)\n",
            " |-- verified_purchase: string (nullable = true)\n",
            " |-- review_headline: string (nullable = true)\n",
            " |-- review_body: string (nullable = true)\n",
            " |-- review_date: string (nullable = true)\n",
            "\n"
          ]
        }
      ]
    },
    {
      "cell_type": "code",
      "source": [
        "# Count df record amount\n",
        "df.count()"
      ],
      "metadata": {
        "colab": {
          "base_uri": "https://localhost:8080/"
        },
        "id": "42jyKxu7CvNs",
        "outputId": "342066fb-f3fa-4bb7-c938-81045dea8d2e"
      },
      "execution_count": null,
      "outputs": [
        {
          "output_type": "execute_result",
          "data": {
            "text/plain": [
              "3514942"
            ]
          },
          "metadata": {},
          "execution_count": 28
        }
      ]
    },
    {
      "cell_type": "markdown",
      "source": [
        "## Transform The Dataset "
      ],
      "metadata": {
        "id": "vbdLiGFRC7Tr"
      }
    },
    {
      "cell_type": "code",
      "source": [
        "# Dropping null values from dataset\n",
        "new_df=df.dropna(how=\"any\")\n",
        "new_df.show(truncate=False)\n",
        "# Check new count of data set\n",
        "new_df.count()"
      ],
      "metadata": {
        "colab": {
          "base_uri": "https://localhost:8080/"
        },
        "id": "gdwPonr8DBXu",
        "outputId": "67653b55-4946-4dcc-d06e-a914a69798cc"
      },
      "execution_count": null,
      "outputs": [
        {
          "output_type": "stream",
          "name": "stdout",
          "text": [
            "+-----------+-----------+--------------+----------+--------------+---------------------------------------------------------------------------------------------------------------------+----------------+-----------+-------------+-----------+----+-----------------+---------------------------------------------------------+-------------------------------------------------------------------------------------------------------------------------------------------------------------------------------------------------------------------------------------------------------------------------------------------------------------------------------------------------------------------------------------------------------------------------------------------------------------------------------------------------------------------------------------------------------------------------------------------------------------------------------------------------------------------------------------------------------------------+-----------+\n",
            "|marketplace|customer_id|review_id     |product_id|product_parent|product_title                                                                                                        |product_category|star_rating|helpful_votes|total_votes|vine|verified_purchase|review_headline                                          |review_body                                                                                                                                                                                                                                                                                                                                                                                                                                                                                                                                                                                                                                                                                                        |review_date|\n",
            "+-----------+-----------+--------------+----------+--------------+---------------------------------------------------------------------------------------------------------------------+----------------+-----------+-------------+-----------+----+-----------------+---------------------------------------------------------+-------------------------------------------------------------------------------------------------------------------------------------------------------------------------------------------------------------------------------------------------------------------------------------------------------------------------------------------------------------------------------------------------------------------------------------------------------------------------------------------------------------------------------------------------------------------------------------------------------------------------------------------------------------------------------------------------------------------+-----------+\n",
            "|US         |36075342   |RAB23OVFNCXZQ |B00LPRXQ4Y|339193102     |17\" 2003-2006 Ford EXPEDITION Ford F150 2004-2008 OEM Chrome Center Cap Hubcap Wheel Cover 3518 5L34-1A096-GA        |Automotive      |1          |0            |0          |N   |Y                |As it was used,                                          |As it was used, the method that Ford used to attach it to the wheel was worn and thus the cap flew off into the night on a gravel road                                                                                                                                                                                                                                                                                                                                                                                                                                                                                                                                                                             |2015-08-31 |\n",
            "|US         |42462164   |R3NORADVJO6IE6|B000C7S0TO|907684644     |Spectra Premium CU1909 Complete Radiator for Toyota Camry                                                            |Automotive      |5          |0            |0          |N   |Y                |Five Stars                                               |Put it in fine, no problems. Shipping was decent 5 days.                                                                                                                                                                                                                                                                                                                                                                                                                                                                                                                                                                                                                                                           |2015-08-31 |\n",
            "|US         |21241933   |R299F4SO98S5OO|B000CO9WE4|752246352     |K&N E-4665 High Performance Replacement Industrial Air Filter                                                        |Automotive      |5          |1            |1          |N   |Y                |Great fit and performance on the surface drive motor.    |Fit wonderfully on my 36HP Pro-Drive motor.                                                                                                                                                                                                                                                                                                                                                                                                                                                                                                                                                                                                                                                                        |2015-08-31 |\n",
            "|US         |52570308   |R2DA9DOT03UW6I|B000GKD5NI|105401756     |Suncutters Rear Window Shade                                                                                         |Automotive      |5          |2            |3          |N   |Y                |Good for the price. Fits fairly good on 2010 Toyota Camry|Good for the price!  So far I have put it up in the back window of my 2010 Camry and after several times using my spit and pushing very hard on the suction cups so that you get a black circle effect from looking at it from the outside of the window, they have stuck and have not come off at all.  Make sure you use spit and apply pressure around the entire suction cup to make a secure seal.  Like I said from outside it should look like an all black circle if you have a nice seal going.  Has been up for around one month and has stayed.  It could have been made a little wider as it doesn't cover the entire back window top to bottom, but does seem to be pretty good coverage side to side.|2015-08-31 |\n",
            "|US         |38200102   |R2OGCH681EQHU6|B009SDA7TE|728471129     |Lug Nuts Landcruiser Tundra OEM Mag 14x1.5 Thread Set of 20 Pcs                                                      |Automotive      |5          |0            |0          |N   |Y                |Five Stars                                               |Fit perfectly on my 2012 Tundra with stock alu rims.                                                                                                                                                                                                                                                                                                                                                                                                                                                                                                                                                                                                                                                               |2015-08-31 |\n",
            "|US         |34866169   |R2JMKIC16MHD7 |B00KV15KRG|962286893     |Fits 2007-2009 Honda CR-V Real Gray Leather Seat Armrest Covers (Leather Part Only)                                  |Automotive      |5          |2            |2          |N   |Y                |Fit Well and Better Quality                              |Product fits well and closely matches color of original equipment.....much better quality than the original.                                                                                                                                                                                                                                                                                                                                                                                                                                                                                                                                                                                                       |2015-08-31 |\n",
            "|US         |184627     |R1DB5DA7CWWTI8|B0002JMAKW|267002949     |Castrol 12614 Dot 4 Synthetic Brake Fluid                                                                            |Automotive      |5          |0            |0          |N   |Y                |convenient, fast delivery,                               |convenient ,fast delivery, and fair price                                                                                                                                                                                                                                                                                                                                                                                                                                                                                                                                                                                                                                                                          |2015-08-31 |\n",
            "|US         |2975964    |R1N8XWFDK4QACP|B00XJKMM6S|570789093     |New Power Window Switch for 1990-2003 Mitsubishi Montero Pajero V31 V32 # MR753373 MB781916                          |Automotive      |5          |0            |0          |N   |Y                |Five Stars                                               |is good                                                                                                                                                                                                                                                                                                                                                                                                                                                                                                                                                                                                                                                                                                            |2015-08-31 |\n",
            "|US         |40946484   |R19VFLX6MRU0CX|B000C5CEKC|389524802     |Motorad MGC-791 Locking Fuel Cap                                                                                     |Automotive      |5          |0            |0          |N   |Y                |GOOD deal.  Great cap                                    |wonderful.  if you need a locking cap, and we did for our jeep grand cherokee as there was a rash of gas siphoning last winter, this is a good one.  no problems.                                                                                                                                                                                                                                                                                                                                                                                                                                                                                                                                                  |2015-08-31 |\n",
            "|US         |12554469   |RLTD8YDGTP9PT |B00GD9R2A8|21425394      |Genuine Ford AL3Z-17032-A Wheel Lug Nut Wrench                                                                       |Automotive      |1          |0            |0          |N   |Y                |Does not fit my Ford Taurus                              |Does not work with my Ford Taurus. But there's no description on this item whether it will or will not.                                                                                                                                                                                                                                                                                                                                                                                                                                                                                                                                                                                                            |2015-08-31 |\n",
            "|US         |35335277   |R78B5LCFJ52SR |B00RM327NG|816815445     |Air Vent Smartphone Car Mount w/ Magnetic 1 Step Mounting Technology - Best Cell Phone Holder for Your Car           |Automotive      |4          |0            |0          |N   |Y                |Not bad!                                                 |I really loved this little mount; now I like it. It fell a little more often than I hoped (maybe my phone was too heavy? Maybe i didn't connect the magnet exactly?). Either way, it was great when I needed the GPS. It did eventually fall off one night with the phone and disappeared into my car. I found it much later, attached to a magnet in my car door and smashed from my closing the door. So GREAT idea, but the magnet is weird.                                                                                                                                                                                                                                                                    |2015-08-31 |\n",
            "|US         |44957003   |R33SKWL0HEQIQ9|B0071NL7UQ|192225755     |FDJ New Replacement Honda Gas Fule Tank                                                                              |Automotive      |5          |0            |0          |N   |Y                |Five Stars                                               |Just what I wanted.                                                                                                                                                                                                                                                                                                                                                                                                                                                                                                                                                                                                                                                                                                |2015-08-31 |\n",
            "|US         |444125     |R1HIOV0UX7P13D|B00DSOL0FY|849414056     |Omix-Ada 17402.09 Oil Fill Plug                                                                                      |Automotive      |5          |0            |0          |N   |Y                |Five Stars                                               |Great product and fast service.                                                                                                                                                                                                                                                                                                                                                                                                                                                                                                                                                                                                                                                                                    |2015-08-31 |\n",
            "|US         |35829199   |R4WS0E0MSP9DH |B00GRV48TK|651316983     |GMB 530-2480 Fuel Pump Module Assembly                                                                               |Automotive      |5          |2            |2          |N   |Y                |Well made                                                |Appears to be well made. It does what it's supposed to do.                                                                                                                                                                                                                                                                                                                                                                                                                                                                                                                                                                                                                                                         |2015-08-31 |\n",
            "|US         |16825098   |R2RUIDUMDKG7P |B000E4PCGE|694793259     |00-03 NISSAN SENTRA MIRROR RH (PASSENGER SIDE), Power, Non-Heated (2000 00 2001 01 2002 02 2003 03) NS35ER 963015M000|Automotive      |3          |0            |0          |N   |Y                |new and a great look. Only bad thing is that one of ...  |Product was as described, new and a great look. Only bad thing is that one of the screws was stripped so I couldn't tighten all three.                                                                                                                                                                                                                                                                                                                                                                                                                                                                                                                                                                             |2015-08-31 |\n",
            "|US         |2583392    |RZSA6L4M4D4XA |B005Z8HAUK|732072782     |Slime 40026 2X Heavy Duty Direct Drive Tire Inflator                                                                 |Automotive      |5          |0            |0          |N   |Y                |Five Stars                                               |SO much quieter than other compressors.  VERY quick as well.  You will not regret this purchase.                                                                                                                                                                                                                                                                                                                                                                                                                                                                                                                                                                                                                   |2015-08-31 |\n",
            "|US         |10127903   |R1O3NGQNCFXKR6|B0043AV4NK|533179941     |MegaBrand N1 4\" Burnt Tip Muffler Exhaust 2.5\" Inlet Universal                                                       |Automotive      |5          |0            |0          |N   |Y                |decent                                                   |Great for the price, only<br />Issue was the silencer was a little bent and it rattles when the car is revved. Overall great quality                                                                                                                                                                                                                                                                                                                                                                                                                                                                                                                                                                               |2015-08-31 |\n",
            "|US         |17937309   |R2IEM66RCBJ95A|B00CDHD76C|126169507     |Jackly 45-in-One Mobile Phone Screwdriver Set (JK-6089)                                                              |Automotive      |5          |0            |0          |N   |Y                |Nice set of tools for the edc bag                        |Nice set of tools for the edc bag...I have used this a few times now since purchase and there seems to be a bit to fit everything in a small compact package                                                                                                                                                                                                                                                                                                                                                                                                                                                                                                                                                       |2015-08-31 |\n",
            "|US         |17145638   |R2BQ9O517KSCP8|B000CF1XO0|475232737     |Bosch 3397118942 Aerotwin Wiper Blades - Set of 2                                                                    |Automotive      |5          |0            |0          |N   |N                |Five Stars                                               |Everything ok                                                                                                                                                                                                                                                                                                                                                                                                                                                                                                                                                                                                                                                                                                      |2015-08-31 |\n",
            "|US         |32813839   |R1KF86427VR7AC|B003VLBPJA|897802619     |Heavy-Duty 15\" Cargo Net for Motorcycles, ATVs - Stretches to 30\"                                                    |Automotive      |3          |0            |0          |N   |Y                |Three Stars                                              |I hope the hooks are strong enough.                                                                                                                                                                                                                                                                                                                                                                                                                                                                                                                                                                                                                                                                                |2015-08-31 |\n",
            "+-----------+-----------+--------------+----------+--------------+---------------------------------------------------------------------------------------------------------------------+----------------+-----------+-------------+-----------+----+-----------------+---------------------------------------------------------+-------------------------------------------------------------------------------------------------------------------------------------------------------------------------------------------------------------------------------------------------------------------------------------------------------------------------------------------------------------------------------------------------------------------------------------------------------------------------------------------------------------------------------------------------------------------------------------------------------------------------------------------------------------------------------------------------------------------+-----------+\n",
            "only showing top 20 rows\n",
            "\n"
          ]
        },
        {
          "output_type": "execute_result",
          "data": {
            "text/plain": [
              "3514045"
            ]
          },
          "metadata": {},
          "execution_count": 29
        }
      ]
    },
    {
      "cell_type": "code",
      "source": [
        "# Get rid of any duplicate entries on product id\n",
        "drop_df = new_df.dropDuplicates([\"product_id\"])\n",
        "drop_df.show(truncate=False)\n",
        "# Check new df count\n",
        "drop_df.count()"
      ],
      "metadata": {
        "colab": {
          "base_uri": "https://localhost:8080/"
        },
        "id": "nzRmL9x8DUnb",
        "outputId": "ab2dd034-608d-4096-97f2-c7c213310e1e"
      },
      "execution_count": null,
      "outputs": [
        {
          "output_type": "stream",
          "name": "stdout",
          "text": [
            "+-----------+-----------+--------------+----------+--------------+---------------------------------------------------------------------------------------------+----------------+-----------+-------------+-----------+----+-----------------+--------------------------------------+------------------------------------------------------------------------------------------------------------------------------------------------------------------------------------------------------------------------------------------------------------------------------------------------------------------------------------------------------------------------------------------------------------------------------------------------------------------------------------------+-----------+\n",
            "|marketplace|customer_id|review_id     |product_id|product_parent|product_title                                                                                |product_category|star_rating|helpful_votes|total_votes|vine|verified_purchase|review_headline                       |review_body                                                                                                                                                                                                                                                                                                                                                                                                                                                                               |review_date|\n",
            "+-----------+-----------+--------------+----------+--------------+---------------------------------------------------------------------------------------------+----------------+-----------+-------------+-----------+----+-----------------+--------------------------------------+------------------------------------------------------------------------------------------------------------------------------------------------------------------------------------------------------------------------------------------------------------------------------------------------------------------------------------------------------------------------------------------------------------------------------------------------------------------------------------------+-----------+\n",
            "|US         |46718580   |R2IQFDM47H6T0Z|9539751705|621444381     |Tennessee Heavy Duty Vinyl Bumper Sticker (3 x 5 Inches)                                     |Automotive      |1          |0            |0          |N   |N                |Buyer be ware... if you truly want ...|Buyer be ware...if you truly want a TN state flag bumper sticker, this isn't it...the stars aren't aligned correctly...                                                                                                                                                                                                                                                                                                                                                                   |2014-11-06 |\n",
            "|US         |23077055   |R3UCYMK8M1TVXG|B00006JPBB|950430275     |Ai HWH806 Factory Wire Harness for 1998-2013 Honda/Acura/Suzuki Vehicles                     |Automotive      |5          |0            |0          |N   |Y                |Wire harness                          |Was a perfect fit and installed with ease. Colored coded can't get much easier then this. Great product will buy again                                                                                                                                                                                                                                                                                                                                                                    |2012-02-13 |\n",
            "|US         |25167962   |R35XBEALUENO50|B00009WNYB|78729146      |Megaman X Ultimate Armor Kit - Force Armor                                                   |Automotive      |3          |0            |0          |N   |N                |Force armor?                          |Force armor? in my opinion it more closely matches Gaea Armor.I'd say this one is fairly good but could a lot better. the helmet and shoulders look a bit ugly. also it doesnt take much to pop the leg off as with many other megaman toys. you can just stick it on again however, the detail is incredible from the heavy duty plates to his eyes.the shin gaurds match the game perfectly.good articulation. the bigget problem was really the leg wich kept me from giving it 4 stars|2005-06-01 |\n",
            "|US         |49987447   |R2YTAYV1I4BTT1|B0000AQM5V|369038089     |Coghlan's Rainsuit                                                                           |Automotive      |4          |0            |0          |N   |N                |Transparent Gear                      |This is a cool transparent rain jacket that I used to call bubblegum jackets when I was younger.  I wished they offered a variety of colors though.                                                                                                                                                                                                                                                                                                                                       |2003-12-29 |\n",
            "|US         |23740570   |R2W346WMTCP12K|B0000AX5XB|118992240     |Raider BCS-8B Deluxe Helmet Bag                                                              |Automotive      |5          |0            |0          |N   |Y                |great value                           |great size, and great price.  My open face is a medium and there's so much extra room.  It looks like i could fit a large, maybe an XL into it if my head were larger                                                                                                                                                                                                                                                                                                                     |2015-04-20 |\n",
            "|US         |42837617   |R2FSBYF8IZCLZ0|B0000AXQO9|289972734     |Sierra International MP78710                                                                 |Automotive      |5          |0            |0          |N   |Y                |Five Stars                            |excellent!!  exact replacement                                                                                                                                                                                                                                                                                                                                                                                                                                                            |2015-02-04 |\n",
            "|US         |50650615   |RK6P8AZP6C89E |B0000AXVCB|221562182     |Meguiars M4364 Boat Wash                                                                     |Automotive      |5          |0            |0          |N   |Y                |Works well                            |After driving on quite a few gravel roads leaving the lake my boat was quit dirty. I tried just washing it off with a hose and water without any luck.<br /><br />This boat was was amazing,  just rinse, apply with soft MIT or sponge  and rinse off. Boat was as clean or cleaner than when I purchased it.                                                                                                                                                                            |2015-08-26 |\n",
            "|US         |11782752   |R1CA97GTO57K96|B0000AY9W6|292698258     |Camco 44412 Wheel Chock - Single                                                             |Automotive      |5          |0            |0          |N   |Y                |Five Stars                            |Great price!                                                                                                                                                                                                                                                                                                                                                                                                                                                                              |2015-08-31 |\n",
            "|US         |22418020   |R1X1645I69BW1U|B0000AZ8PG|10757068      |NGK (1052) B6HS-10 Standard Spark Plug, Pack of 1                                            |Automotive      |5          |0            |0          |N   |Y                |I love it                             |NGK spark plugs are the best out there. I've used NGK for 15 years and wont use any other. I tried others but NGK is the best I ever used.<br /><br />'                                                                                                                                                                                                                                                                                                                                   |2014-07-19 |\n",
            "|US         |49599476   |R2ANJRNIW35TAX|B0000UUU82|124443238     |Lund 18063 Interceptor Smoke Wrap-Around Bug Shield                                          |Automotive      |5          |0            |0          |N   |Y                |Easy to Install                       |Item was very easy to install and does a great job at preventing damage to the hood of the car.                                                                                                                                                                                                                                                                                                                                                                                           |2011-06-27 |\n",
            "|US         |30882589   |R1OBL1BN3Y302V|B0000UUX9S|959671175     |K&N 33-2056 High Performance Replacement Air Filter                                          |Automotive      |5          |0            |0          |N   |Y                |eceptional product                    |I love this filter I received 11/2 to 2 mpg empty on my first trip have not checked loaded yet but should see similar results                                                                                                                                                                                                                                                                                                                                                             |2014-03-10 |\n",
            "|US         |14648868   |R16XDOMI2BHI2L|B000182DO2|182521644     |Flowmaster 430402 40 Series Muffler - 3.00 Center IN / 2.50 Dual OUT - Aggressive Sound      |Automotive      |5          |0            |1          |N   |Y                |Great sound!!!                        |Put this on a 2003 dodge dakota with the 4.7 magnum and by let me tell you loud!!! My truck is just as loud as a old 5.0 mustang !!! Love the Sound!!!                                                                                                                                                                                                                                                                                                                                    |2012-12-27 |\n",
            "|US         |18625438   |R1ED6VU721UBMB|B000182ETG|678078721     |Auto Ventshade 77001 Windflector Classic Sunroof Wind Deflector, Fits up to 33\" wide sunroofs|Automotive      |3          |0            |0          |N   |Y                |Very easy to install.                 |Didnt block wind noise as much as i would like. Very easy to install.                                                                                                                                                                                                                                                                                                                                                                                                                     |2014-07-19 |\n",
            "|US         |40475374   |R3JZAYET1Y83RB|B0001EW4D6|182902219     |Auto Ventshade 94350 Original Ventvisor Window Deflector, 4 Piece                            |Automotive      |5          |1            |1          |N   |Y                |Five Stars                            |perfect! fits great and installation was super easy. great product.                                                                                                                                                                                                                                                                                                                                                                                                                       |2014-10-18 |\n",
            "|US         |29806297   |R2PBWECRAUG626|B0001EXKQ6|909026511     |Auto Ventshade 92137 Original Ventvisor Window Deflector, 2 Piece                            |Automotive      |4          |0            |0          |N   |Y                |fit ok                                |the glue holds well but the item is slightly off line with the door but you cannot really tell.<br />i would buy it again                                                                                                                                                                                                                                                                                                                                                                 |2011-01-13 |\n",
            "|US         |15791302   |RLF7RI4I41SNI |B0001WW1NQ|402629305     |Custom Accessories CU056663 Clothes Bar                                                      |Automotive      |5          |1            |1          |N   |Y                |Great clothes bar                     |This has been the nicest clothes bar for the car for traveling.  We have used it quite a lot and it so handy as it retracks back into itself.                                                                                                                                                                                                                                                                                                                                             |2014-03-29 |\n",
            "|US         |5152459    |R1SH7L9YWZ910Y|B0001YIUZC|293727165     |Sportsman Series EHOISTUL 440 lbs. Lift Electric Hoist                                       |Automotive      |5          |1            |1          |N   |Y                |Five Stars                            |Have used this several times and love it                                                                                                                                                                                                                                                                                                                                                                                                                                                  |2015-03-24 |\n",
            "|US         |34204697   |R59MOG362WQAR |B00027GZV4|83801006      |Sierra 18-3575 Bi-Directional Circulating Water Pump for Mercury, OMC, Volvo                 |Automotive      |4          |0            |0          |N   |Y                |Four Stars                            |i like                                                                                                                                                                                                                                                                                                                                                                                                                                                                                    |2014-07-28 |\n",
            "|US         |15505082   |R33ISTF7OLGFF5|B00029JAOQ|687935521     |Holley 125-25 Single-Stage Standard Flow Power Valve                                         |Automotive      |5          |1            |1          |N   |Y                |fixed my idle problem                 |this power valve solved all my issues.  i have low vacume in my hotrod, this part fixed my unsteady idle .                                                                                                                                                                                                                                                                                                                                                                                |2011-01-08 |\n",
            "|US         |14413240   |R2UAT4XRWQTDBH|B00029JW3A|627476708     |Saddleman Premier Tweed Cambridge Bucket Seat Cover,  Charcoal                               |Automotive      |3          |0            |0          |N   |Y                |Cheap seat covers                     |True these were inexpensive covers.  The quality of the product is average and probably at the products value.  Buyer beware WILL NOT FIT A 2004 TOYOTA CAMRY!!!  The design of the cover seems to require a car seat with no mechanics built in.  Returning mine was seamless and easy (thanks to Amazon).  My best tip is that, if you can stick you hand through were the seat and back come together, this product should work for you.                                               |2010-08-26 |\n",
            "+-----------+-----------+--------------+----------+--------------+---------------------------------------------------------------------------------------------+----------------+-----------+-------------+-----------+----+-----------------+--------------------------------------+------------------------------------------------------------------------------------------------------------------------------------------------------------------------------------------------------------------------------------------------------------------------------------------------------------------------------------------------------------------------------------------------------------------------------------------------------------------------------------------+-----------+\n",
            "only showing top 20 rows\n",
            "\n"
          ]
        },
        {
          "output_type": "execute_result",
          "data": {
            "text/plain": [
              "762734"
            ]
          },
          "metadata": {},
          "execution_count": 30
        }
      ]
    },
    {
      "cell_type": "code",
      "source": [
        "# Creating review_id table\n",
        "clean_df = drop_df.select([\"review_id\", \"customer_id\", \"product_id\", \"product_parent\", \"review_date\"])\n",
        "clean_df.show(10)"
      ],
      "metadata": {
        "colab": {
          "base_uri": "https://localhost:8080/"
        },
        "id": "17u0BtbrFOJo",
        "outputId": "91a1b0aa-2e11-4406-e2ed-114adcaf866d"
      },
      "execution_count": null,
      "outputs": [
        {
          "output_type": "stream",
          "name": "stdout",
          "text": [
            "+--------------+-----------+----------+--------------+-----------+\n",
            "|     review_id|customer_id|product_id|product_parent|review_date|\n",
            "+--------------+-----------+----------+--------------+-----------+\n",
            "|R2IQFDM47H6T0Z|   46718580|9539751705|     621444381| 2014-11-06|\n",
            "|R3UCYMK8M1TVXG|   23077055|B00006JPBB|     950430275| 2012-02-13|\n",
            "|R35XBEALUENO50|   25167962|B00009WNYB|      78729146| 2005-06-01|\n",
            "|R2YTAYV1I4BTT1|   49987447|B0000AQM5V|     369038089| 2003-12-29|\n",
            "|R1QQF6VF4MOBUV|   34046056|B0000AX5XB|     118992240| 2013-06-13|\n",
            "|R2FSBYF8IZCLZ0|   42837617|B0000AXQO9|     289972734| 2015-02-04|\n",
            "|R156EVLS4YRVR7|   10170419|B0000AXVCB|     221562182| 2013-06-24|\n",
            "|R32E56WU7MML09|   52010547|B0000AY9W6|     292698258| 2013-06-26|\n",
            "|R1X1645I69BW1U|   22418020|B0000AZ8PG|      10757068| 2014-07-19|\n",
            "|R38LQ7XUCXD0MC|   30440473|B0000UUU82|     124443238| 2014-10-13|\n",
            "+--------------+-----------+----------+--------------+-----------+\n",
            "only showing top 10 rows\n",
            "\n"
          ]
        }
      ]
    },
    {
      "cell_type": "code",
      "source": [
        "# Check schema \n",
        "clean_df.printSchema()"
      ],
      "metadata": {
        "id": "bLwRu0H6HcH2",
        "colab": {
          "base_uri": "https://localhost:8080/"
        },
        "outputId": "1f833eb2-b953-4287-be95-93ae61ba0826"
      },
      "execution_count": null,
      "outputs": [
        {
          "output_type": "stream",
          "name": "stdout",
          "text": [
            "root\n",
            " |-- review_id: string (nullable = true)\n",
            " |-- customer_id: integer (nullable = true)\n",
            " |-- product_id: string (nullable = true)\n",
            " |-- product_parent: integer (nullable = true)\n",
            " |-- review_date: string (nullable = true)\n",
            "\n"
          ]
        }
      ]
    },
    {
      "cell_type": "code",
      "source": [
        "# Convert date format\n",
        "from pyspark.sql.functions import to_date\n",
        "from pyspark.sql.functions import col, unix_timestamp, to_date\n",
        "\n",
        "\n",
        "review_df = clean_df.withColumn('review_date', to_date(unix_timestamp(col('review_date'), 'yyyy-MM-dd').cast(\"timestamp\")))\n",
        "review_df.show()"
      ],
      "metadata": {
        "colab": {
          "base_uri": "https://localhost:8080/"
        },
        "id": "-Y9DLBIuwX71",
        "outputId": "8a351694-834f-4677-860a-03024aceb818"
      },
      "execution_count": null,
      "outputs": [
        {
          "output_type": "stream",
          "name": "stdout",
          "text": [
            "+--------------+-----------+----------+--------------+-----------+\n",
            "|     review_id|customer_id|product_id|product_parent|review_date|\n",
            "+--------------+-----------+----------+--------------+-----------+\n",
            "|R2IQFDM47H6T0Z|   46718580|9539751705|     621444381| 2014-11-06|\n",
            "|R3UCYMK8M1TVXG|   23077055|B00006JPBB|     950430275| 2012-02-13|\n",
            "|R35XBEALUENO50|   25167962|B00009WNYB|      78729146| 2005-06-01|\n",
            "|R2YTAYV1I4BTT1|   49987447|B0000AQM5V|     369038089| 2003-12-29|\n",
            "|R1QQF6VF4MOBUV|   34046056|B0000AX5XB|     118992240| 2013-06-13|\n",
            "|R2FSBYF8IZCLZ0|   42837617|B0000AXQO9|     289972734| 2015-02-04|\n",
            "|R156EVLS4YRVR7|   10170419|B0000AXVCB|     221562182| 2013-06-24|\n",
            "|R32E56WU7MML09|   52010547|B0000AY9W6|     292698258| 2013-06-26|\n",
            "|R1X1645I69BW1U|   22418020|B0000AZ8PG|      10757068| 2014-07-19|\n",
            "|R38LQ7XUCXD0MC|   30440473|B0000UUU82|     124443238| 2014-10-13|\n",
            "|R176IMHT0KKWQF|   26097374|B0000UUX9S|     959671175| 2013-05-13|\n",
            "|R16XDOMI2BHI2L|   14648868|B000182DO2|     182521644| 2012-12-27|\n",
            "|R3KV73U1BDGVBY|   26316817|B000182ETG|     678078721| 2013-06-07|\n",
            "|R3JZAYET1Y83RB|   40475374|B0001EW4D6|     182902219| 2014-10-18|\n",
            "|R2PBWECRAUG626|   29806297|B0001EXKQ6|     909026511| 2011-01-13|\n",
            "| RLF7RI4I41SNI|   15791302|B0001WW1NQ|     402629305| 2014-03-29|\n",
            "|R1YK0819LXZP2G|   38344760|B0001YIUZC|     293727165| 2013-05-30|\n",
            "|R3B54DCW76V153|   22251377|B00027GZV4|      83801006| 2012-04-06|\n",
            "|R33ISTF7OLGFF5|   15505082|B00029JAOQ|     687935521| 2011-01-08|\n",
            "|R2UAT4XRWQTDBH|   14413240|B00029JW3A|     627476708| 2010-08-26|\n",
            "+--------------+-----------+----------+--------------+-----------+\n",
            "only showing top 20 rows\n",
            "\n"
          ]
        }
      ]
    },
    {
      "cell_type": "code",
      "source": [
        "# Re-check schema after date format change\n",
        "review_df.printSchema()"
      ],
      "metadata": {
        "colab": {
          "base_uri": "https://localhost:8080/"
        },
        "id": "QJRCCja1wfZE",
        "outputId": "b502cb3d-02a2-48c2-dea4-98f38946d920"
      },
      "execution_count": null,
      "outputs": [
        {
          "output_type": "stream",
          "name": "stdout",
          "text": [
            "root\n",
            " |-- review_id: string (nullable = true)\n",
            " |-- customer_id: integer (nullable = true)\n",
            " |-- product_id: string (nullable = true)\n",
            " |-- product_parent: integer (nullable = true)\n",
            " |-- review_date: date (nullable = true)\n",
            "\n"
          ]
        }
      ]
    },
    {
      "cell_type": "code",
      "source": [
        "# Creating products table\n",
        "products_df = drop_df.select([\"product_id\", \"product_title\"])\n",
        "# Check dataframe\n",
        "products_df.show(10)"
      ],
      "metadata": {
        "colab": {
          "base_uri": "https://localhost:8080/"
        },
        "id": "oLP09xg7K7Rp",
        "outputId": "f1c5749b-a225-4c8f-d4d3-9c5b3aebcc46"
      },
      "execution_count": null,
      "outputs": [
        {
          "output_type": "stream",
          "name": "stdout",
          "text": [
            "+----------+--------------------+\n",
            "|product_id|       product_title|\n",
            "+----------+--------------------+\n",
            "|9539751705|Tennessee Heavy D...|\n",
            "|B00006JPBB|Ai HWH806 Factory...|\n",
            "|B00009WNYB|Megaman X Ultimat...|\n",
            "|B0000AQM5V|  Coghlan's Rainsuit|\n",
            "|B0000AX5XB|Raider BCS-8B Del...|\n",
            "|B0000AXQO9|Sierra Internatio...|\n",
            "|B0000AXVCB|Meguiars M4364 Bo...|\n",
            "|B0000AY9W6|Camco 44412 Wheel...|\n",
            "|B0000AZ8PG|NGK (1052) B6HS-1...|\n",
            "|B0000UUU82|Lund 18063 Interc...|\n",
            "+----------+--------------------+\n",
            "only showing top 10 rows\n",
            "\n"
          ]
        }
      ]
    },
    {
      "cell_type": "code",
      "source": [
        "# Creating customer_id table\n",
        "customer_df = drop_df.select([\"customer_id\"])"
      ],
      "metadata": {
        "id": "miQVW1DeLVTE"
      },
      "execution_count": null,
      "outputs": []
    },
    {
      "cell_type": "code",
      "source": [
        "# Count the number of times each customer appeared in the dataset\n",
        "import pyspark.sql.functions as func\n",
        "customers = customer_df.groupBy(\"customer_id\").count().select(func.col(\"customer_id\").alias(\"customer_id\"),func.col(\"count\").alias(\"customer_count\"))\n",
        "customers.show(10)"
      ],
      "metadata": {
        "id": "-__DLr0LOE5I",
        "colab": {
          "base_uri": "https://localhost:8080/"
        },
        "outputId": "779cf4ed-3fc4-4372-abb7-fc8b0df226a1"
      },
      "execution_count": null,
      "outputs": [
        {
          "output_type": "stream",
          "name": "stdout",
          "text": [
            "+-----------+--------------+\n",
            "|customer_id|customer_count|\n",
            "+-----------+--------------+\n",
            "|   11222629|             6|\n",
            "|   13151091|             1|\n",
            "|   10658892|             2|\n",
            "|   15564120|             1|\n",
            "|   10944478|             4|\n",
            "|   25559985|            13|\n",
            "|   10217380|            15|\n",
            "|   17193739|             1|\n",
            "|    3400412|             1|\n",
            "|   10510214|             3|\n",
            "+-----------+--------------+\n",
            "only showing top 10 rows\n",
            "\n"
          ]
        }
      ]
    },
    {
      "cell_type": "code",
      "source": [
        "# Creating the vine_table\n",
        "vine_table = drop_df.select([\"review_id\", \"star_rating\", \"helpful_votes\", \"total_votes\", \"vine\"])\n",
        "\n",
        "vine_table.show(10)"
      ],
      "metadata": {
        "colab": {
          "base_uri": "https://localhost:8080/"
        },
        "id": "wGmfX0icsxpP",
        "outputId": "1909ee65-e583-4899-b2b3-4deab3392d63"
      },
      "execution_count": null,
      "outputs": [
        {
          "output_type": "stream",
          "name": "stdout",
          "text": [
            "+--------------+-----------+-------------+-----------+----+\n",
            "|     review_id|star_rating|helpful_votes|total_votes|vine|\n",
            "+--------------+-----------+-------------+-----------+----+\n",
            "|R2IQFDM47H6T0Z|          1|            0|          0|   N|\n",
            "|R3UCYMK8M1TVXG|          5|            0|          0|   N|\n",
            "|R35XBEALUENO50|          3|            0|          0|   N|\n",
            "|R2YTAYV1I4BTT1|          4|            0|          0|   N|\n",
            "|R1QQF6VF4MOBUV|          5|            0|          0|   N|\n",
            "|R2FSBYF8IZCLZ0|          5|            0|          0|   N|\n",
            "|R156EVLS4YRVR7|          5|            0|          0|   N|\n",
            "|R32E56WU7MML09|          4|            0|          0|   N|\n",
            "|R1X1645I69BW1U|          5|            0|          0|   N|\n",
            "|R38LQ7XUCXD0MC|          5|            0|          0|   N|\n",
            "+--------------+-----------+-------------+-----------+----+\n",
            "only showing top 10 rows\n",
            "\n"
          ]
        }
      ]
    },
    {
      "cell_type": "code",
      "source": [
        "# Configure RDS\n",
        "mode = \"append\"\n",
        "jdbc_url=\"jdbc:postgresql://<insert endpoint>:5432/big_data_db\"\n",
        "config = {\"user\":\"root\", \n",
        "          \"password\": \"<insert password>\", \n",
        "          \"driver\":\"org.postgresql.Driver\"}"
      ],
      "metadata": {
        "id": "P-6l8Va5t7nI"
      },
      "execution_count": null,
      "outputs": []
    },
    {
      "cell_type": "code",
      "source": [
        "# Pushing tables to the database tables\n",
        "review_df.write.jdbc(url=jdbc_url, table='review_df', mode=mode, properties=config)"
      ],
      "metadata": {
        "id": "pTZS4pyDv4ww"
      },
      "execution_count": null,
      "outputs": []
    },
    {
      "cell_type": "code",
      "source": [
        "products_df.write.jdbc(url=jdbc_url, table='products', mode=mode, properties=config)"
      ],
      "metadata": {
        "id": "mqXOcAofwCA-"
      },
      "execution_count": null,
      "outputs": []
    },
    {
      "cell_type": "code",
      "source": [
        "customers.write.jdbc(url=jdbc_url, table='customers', mode=mode, properties=config)"
      ],
      "metadata": {
        "id": "rLR2lEwVzd_n"
      },
      "execution_count": null,
      "outputs": []
    },
    {
      "cell_type": "code",
      "source": [
        "vine_table.write.jdbc(url=jdbc_url, table='vine_table', mode=mode, properties=config)"
      ],
      "metadata": {
        "id": "YynnHKCVziQ0"
      },
      "execution_count": null,
      "outputs": []
    }
  ]
}